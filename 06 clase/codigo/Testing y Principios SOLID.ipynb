{
 "cells": [
  {
   "cell_type": "markdown",
   "id": "85d41626-8d48-4432-9684-e95e20682aba",
   "metadata": {},
   "source": [
    "# Testing\n",
    "\n",
    "El testeo es el proceso de *evaluar y verificar* que el código funciona *como queremos que funcione*. Es decir,que cumpla los *requisitos especificados* (labor de QA) y que no contenga errores (labor de Dev). El testeo puede ser **manual o automatizado**. La forma más sencilla de realizarlo es con la keyword `assert`."
   ]
  },
  {
   "cell_type": "code",
   "execution_count": 1,
   "id": "164124f0-b14b-4036-b1c2-89c2b4555910",
   "metadata": {},
   "outputs": [],
   "source": [
    "def suma(a: int | float, b: int | float) -> int | float:\n",
    "    return a + b"
   ]
  },
  {
   "cell_type": "markdown",
   "id": "13838e11-6b53-4cf0-b8a3-2831e763f64e",
   "metadata": {},
   "source": [
    "Según el teorema de Hoare, de la forma **{Q} S {R}**, se puede conocer el estado interno de un sistema *S* de acuerdo a su **precondición Q** y a su **postcondición R**. Este teorema **no** es correcto, pero da una buena base de como realizar testeo **unitario**, es decir, de un componente aislado.\n",
    "\n",
    "Se crea una precondición, y se especifica una postcondición. Si el test es correcto, se llegará a esa postcondición."
   ]
  },
  {
   "cell_type": "code",
   "execution_count": null,
   "id": "1f1ea2fd-a19c-4546-95fe-54a0dcfd15a5",
   "metadata": {},
   "outputs": [],
   "source": [
    "# Con assert\n",
    "\n",
    "assert suma(2, 3) == 5, \"La suma de 2 y 3 debería ser 5\"\n",
    "assert suma(-1, 1) == 0, \"La suma de -1 y 1 debería ser 0\"\n",
    "\n",
    "# Con unittest, de la libreria estandart\n",
    "\n",
    "import unittest\n",
    "\n",
    "class TestSuma(unittest.TestCase):\n",
    "    def test_suma_positivos(self):\n",
    "        self.assertEqual(suma(2, 3), 5)\n",
    "    \n",
    "    def test_suma_negativos(self):\n",
    "        self.assertNotEqual(suma(-1, 1), 10)\n",
    "\n",
    "# Con pytest, instalado desde pip\n",
    "\n",
    "import sys\n",
    "!{sys.executable} -m pip install pytest\n",
    "import pytest\n",
    "\n",
    "def test_suma_positivos():\n",
    "    assert suma(2, 3) == 5\n",
    "\n",
    "def test_suma_negativos():\n",
    "    assert suma(-1, 1) != 10"
   ]
  },
  {
   "cell_type": "markdown",
   "id": "0fd0d210-a39d-4735-abdb-b6a2d78db814",
   "metadata": {},
   "source": [
    "Sin embargo, muchos otros tipos de tests. Los **tests de integración** se encargan de ver como los componentes se comunican entre sí. Los **tests end to end** intentan simular el uso que un usuario daría al software. Los **tests por propiedad** intentan variar el *estado interno S*, en vez de la precondición y la postcondición..."
   ]
  },
  {
   "cell_type": "code",
   "execution_count": 8,
   "id": "9f9ad606-952a-46a3-9ed4-d88cf646c6ea",
   "metadata": {},
   "outputs": [],
   "source": [
    "# Un test de propiedad\n",
    "\n",
    "def resta(a: int | float, b: int | float) -> int | float:\n",
    "    return a - b\n",
    "\n",
    "numero = 1  # Estrategia (numerica) ---> hypothesis\n",
    "assert suma(2, resta(numero, 2)) == numero  # numero + 2 - 2 = numero, sin importar el numero!"
   ]
  },
  {
   "cell_type": "markdown",
   "id": "5742bd5c-1fcd-4740-9dd3-9f6bde405064",
   "metadata": {},
   "source": [
    "## Test Driven Development\n",
    "\n",
    "El **Test Driven Decelopment** (TDD) es una práctica que consiste en hacer *antes el test del código, para despues ir haciendo el código de acuerdo a los tests*. Esta metodología se llama **Red-Green-Refactor**"
   ]
  },
  {
   "cell_type": "code",
   "execution_count": null,
   "id": "2124f3db-e16e-4e3e-ab60-b94e2ca4dd7c",
   "metadata": {},
   "outputs": [],
   "source": [
    "# Ejemplo con patito que haga quack\n",
    "\n",
    "## Hacer una calculadora"
   ]
  },
  {
   "cell_type": "markdown",
   "id": "da57204c-bc13-4dd1-a0a6-b484173811a5",
   "metadata": {},
   "source": [
    "# Intro a Pytest\n",
    "\n",
    "Pytest es un paquete de testeo muy potente y utilizado. Permite crear tests con una sintaxis sencilla (aprovechando `assert`) que es compatible con las otras librerias de testeo (notablemente `doctest` y `unittest`). Se utiliza para realizar testeo unitario y de integración.\n",
    "\n",
    "## Sintaxis básica\n",
    "\n",
    "```python\n",
    "class Test>nombre>:\n",
    "    def test_<nombre>():\n",
    "        assert <condicion>\n",
    "        with pytest.raises(<tipo error>, match=<mensaje de error>):  # En caso de un raise\n",
    "            <condicion de error>\n",
    "```\n",
    "\n",
    "La forma de ejecutar los tests en Pytest es `pytest` o, si no encuentra el lugar (se que puede configurar), `pytest <path>`, aunque se puede especificar un modo verboso con `pytest -v` o un modo 1-error `pytest --maxfail=1`."
   ]
  },
  {
   "cell_type": "code",
   "execution_count": 10,
   "id": "951745e8-0932-44a4-ba91-62d2b14c83cc",
   "metadata": {},
   "outputs": [
    {
     "name": "stderr",
     "output_type": "stream",
     "text": [
      "\u001b[31mERROR: usage: ipykernel_launcher.py [options] [file_or_dir] [file_or_dir] [...]\n",
      "ipykernel_launcher.py: error: unrecognized arguments: -f\n",
      "  inifile: None\n",
      "  rootdir: C:\\Users\\Proye\n",
      "\u001b[0m\n"
     ]
    },
    {
     "data": {
      "text/plain": [
       "<ExitCode.USAGE_ERROR: 4>"
      ]
     },
     "execution_count": 10,
     "metadata": {},
     "output_type": "execute_result"
    }
   ],
   "source": [
    "class ListaFrutas:\n",
    "    def __init__(self):\n",
    "        self.lista = []\n",
    "        \n",
    "    def añadir_fruta(self, fruta: str):\n",
    "        if isinstance(fruta, str):\n",
    "            self.lista.append(fruta)\n",
    "        else:\n",
    "            raise TypeError(\"Eso no es una fruta\")\n",
    "\n",
    "def test_añadir_fruta():\n",
    "    instancia = ListaFrutas()\n",
    "    fruta = \"manzana\"\n",
    "    instancia.añadir_fruta(fruta)\n",
    "    assert instancia.lista[0] == fruta\n",
    "    with pytest.raises(TypeError, match=\"Eso no es una fruta\"):\n",
    "        instancia.añadir_fruta(100)"
   ]
  },
  {
   "cell_type": "markdown",
   "id": "086e188c-fed4-404f-9ac0-5ed968cf8f4d",
   "metadata": {},
   "source": [
    "## Setup y teardown\n",
    "\n",
    "Pytest permite hacer *setup* como una forma de preparar un test, o una serie de tests; y *teardown* como forma de limpiar las condiciones una vez estos tests han terminado. El alcance de este *setup* y *teardown* puede ser a nivel de modulo y nivel de clase o función."
   ]
  },
  {
   "cell_type": "code",
   "execution_count": null,
   "id": "29a05a27-017a-4f3a-af5c-d23aac5a4d30",
   "metadata": {},
   "outputs": [],
   "source": [
    "# Mismo codigo que antes pero preparando la instancia con setup y eliminandola con teardown\n",
    "\n",
    "def setup_ListaFrutas(function):\n",
    "    global instancia  # Crea una instancia global para los tests\n",
    "    instancia = ListaFrutas()\n",
    "    print(f\"\\nConfigurando la prueba: {function.__name__}\")\n",
    "\n",
    "def teardown_ListaFrutas(function):\n",
    "    global instancia\n",
    "    del instancia  # Elimina la instancia\n",
    "    print(f\"Limpieza después de la prueba: {function.__name__}\")\n",
    "\n",
    "def test_añadir_fruta():\n",
    "    fruta = \"manzana\"\n",
    "    instancia.añadir_fruta(fruta)  # Ya se ha hecho setup, no es necesario instanciar\n",
    "    assert instancia.lista[0] == fruta"
   ]
  },
  {
   "cell_type": "markdown",
   "id": "5eb4ae0a-2871-411a-b09a-4a076cbec71c",
   "metadata": {},
   "source": [
    "## Fixtures\n",
    "\n",
    "Sin embargo, Pytest utiliza **fixtures** para manejar el *setup* y el *teardown*. Los fixtures son simplemente funcines que se usan para configurar el estado previo a unos tests, inyectandose en las pruebas de forma automática."
   ]
  },
  {
   "cell_type": "code",
   "execution_count": null,
   "id": "79e76ae3-b83a-4a22-90c8-d31fd30ef807",
   "metadata": {},
   "outputs": [],
   "source": [
    "# Mismo codigo con fixture\n",
    "\n",
    "@pytest.fixture\n",
    "def instancia():\n",
    "    return ListaFrutas()  # Se prepara la instancia\n",
    "\n",
    "def test_añadir_fruta(instancia):  # Se inyecta la fixture\n",
    "    fruta = \"manzana\"\n",
    "    instancia.añadir_fruta(fruta)\n",
    "    assert instancia.lista[0] == fruta"
   ]
  },
  {
   "cell_type": "markdown",
   "id": "4498e053-d5dd-4b8a-b1fd-7e140db120a7",
   "metadata": {},
   "source": [
    "## Tests parametrizados\n",
    "\n",
    "Los tests parametrizados son una forma de hacer una bateria de tests, inyectando múltiples precondiciones a unos tests particulares."
   ]
  },
  {
   "cell_type": "code",
   "execution_count": null,
   "id": "21b81bca-77e2-432c-a058-da4009a2fbd9",
   "metadata": {},
   "outputs": [],
   "source": [
    "@pytest.fixture\n",
    "def instancia():\n",
    "    return ListaFrutas()\n",
    "\n",
    "@pytest.mark.parametrize(\"fruta, resultado\", [  # Se crea una lista con la fruta y la fruta que se espera conseguir (en este caso la misma)\n",
    "    (\"manzana\", \"manzana\"),\n",
    "    (\"pera\", \"pera\"),\n",
    "    (\"plátano\", \"plátano\")\n",
    "])\n",
    "\n",
    "def test_añadir_fruta_parametrizado(instancia, fruta, resultado):  # Se inyecta no solo la fixture sino tambien la parametrizacion\n",
    "    instancia.añadir_fruta(fruta)  # Primera parte de la parametrizacion (fruta)\n",
    "    assert instancia.lista[-1] == resultado  # Segunda parte de la parametrizacion (resultado)"
   ]
  },
  {
   "cell_type": "markdown",
   "id": "63c69010-8ab8-451d-8697-1849ddba8afa",
   "metadata": {},
   "source": [
    "## Marcas\n",
    "\n",
    "Pytest permite marcar los tests de acuerdo a diferentes criterios, incluso crear nuestras propias marcas."
   ]
  },
  {
   "cell_type": "code",
   "execution_count": 11,
   "id": "94cffdd8-049a-49db-a9e4-520ec4702803",
   "metadata": {},
   "outputs": [],
   "source": [
    "@pytest.mark.xfail\n",
    "def test_sumar_falla():\n",
    "    assert sumar(2, 2) == 5  # Esto fallara intencionadamente"
   ]
  },
  {
   "cell_type": "code",
   "execution_count": null,
   "id": "e5433666-c2cf-4ca3-8dfa-63eb5d179389",
   "metadata": {},
   "outputs": [],
   "source": [
    "@pytest.mark.skipif(sys.version_info < (3, 8), reason=\"Requiere Python 3.8 o superior\")\n",
    "def test_funcion_python_3_8():\n",
    "    assert True  # Este test se salta si la version de Python es menor de 3.8, y se ejecuta si se tiene esa version o superior"
   ]
  },
  {
   "cell_type": "markdown",
   "id": "6c2c56ce-3668-474b-8a27-9362aba81765",
   "metadata": {},
   "source": [
    "## Coverage\n",
    "\n",
    "Pytest se puede extender con plugins. Uno de los más usados es *coverage*, que permite ver el **coverage** del código.\n",
    "Se instala con `pip install pytest-cov` y mide el porcentaje de código que nuestros tests han cubierto.\n",
    "\n",
    "Se utiliza como `pytest --cov=<paquete>`"
   ]
  },
  {
   "cell_type": "markdown",
   "id": "b3db77e3-7338-4e3a-98e7-ba24537f2868",
   "metadata": {},
   "source": [
    "# Principios SOLID\n",
    "\n",
    "Los *principios SOLID* son un conjunto de cinco **principios de diseño** que promueven la creación de sistemas más *comprensibles, flexibles y mantenibles*. Se basan en cinco principios, que aseguran un código de calidad. Y como consecuencia de estos, *surjen los patrones de diseño*."
   ]
  },
  {
   "cell_type": "markdown",
   "id": "7634a11b-bba7-40da-9a66-0466705f8661",
   "metadata": {},
   "source": [
    "## Interfaces y ABC\n",
    "\n",
    "Las **ABC (Abstract Base Classes)** son *clases base abstractas* definidas en el módulo abc que permiten definir *métodos abstractos*. Estos métodos **deben ser implementados por cualquier clase que herede de la ABC**, lo que garantiza que todas las **subclases cumplan con una interfaz específica**. Las ABCs son útiles para crear una *arquitectura sólida y coherente* en la que todas las subclases cumplen con ciertas expectativas en términos de métodos y comportamiento."
   ]
  },
  {
   "cell_type": "code",
   "execution_count": 12,
   "id": "68acee69-f4f6-4755-a7ac-59a83390270f",
   "metadata": {},
   "outputs": [],
   "source": [
    "# Creando la interfaz\n",
    "\n",
    "from abc import ABC, abstractmethod\n",
    "\n",
    "class Vehiculo(ABC):\n",
    "\n",
    "    @abstractmethod\n",
    "    def arrancar(self):\n",
    "        pass\n",
    "\n",
    "    @abstractmethod\n",
    "    def detener(self):\n",
    "        pass\n",
    "\n",
    "    def identificar(self):\n",
    "        print(f\"Soy un {self.__class__.__name__.lower()}\")"
   ]
  },
  {
   "cell_type": "code",
   "execution_count": 13,
   "id": "b628254a-f801-4584-80ac-e02f7eb42e0a",
   "metadata": {},
   "outputs": [],
   "source": [
    "# Usando la interfaz\n",
    "\n",
    "class Coche(Vehiculo):\n",
    "    def arrancar(self):\n",
    "        print(\"El coche está arrancando\")\n",
    "\n",
    "    def detener(self):\n",
    "        print(\"El coche se ha detenido\")\n",
    "\n",
    "class Bicicleta(Vehiculo):\n",
    "    def arrancar(self):\n",
    "        print(\"La bicicleta está en movimiento\")\n",
    "\n",
    "    def detener(self):\n",
    "        print(\"La bicicleta se ha detenido\")"
   ]
  },
  {
   "cell_type": "code",
   "execution_count": 15,
   "id": "1b1c16ae-2e6d-4068-ad3d-e55dbaf3c60e",
   "metadata": {},
   "outputs": [
    {
     "name": "stdout",
     "output_type": "stream",
     "text": [
      "El coche está arrancando\n",
      "El coche se ha detenido\n",
      "Soy un coche\n",
      "La bicicleta está en movimiento\n",
      "La bicicleta se ha detenido\n",
      "Soy un bicicleta\n"
     ]
    }
   ],
   "source": [
    "coche = Coche()\n",
    "coche.arrancar()\n",
    "coche.detener()\n",
    "coche.identificar()\n",
    "\n",
    "bicicleta = Bicicleta()\n",
    "bicicleta.arrancar()\n",
    "bicicleta.detener()\n",
    "bicicleta.identificar()"
   ]
  },
  {
   "cell_type": "markdown",
   "id": "9b8a3925-a617-47bc-86b9-993cf4e75e43",
   "metadata": {},
   "source": [
    "## **S**ingle responsability (Responsabilidad única)\n",
    "\n",
    "Un componente debería tener una única responsabilidad o propósito."
   ]
  },
  {
   "cell_type": "code",
   "execution_count": null,
   "id": "56e08209-7a40-414c-b343-81cc748623ac",
   "metadata": {},
   "outputs": [],
   "source": [
    "# Incumpliendo el principio\n",
    "import datetime\n",
    "\n",
    "def conexion_base_datos(url, usuario, contraseña, *, time=24*60*60):\n",
    "    def validar(usuario, contraseña) -> bool:\n",
    "        ...\n",
    "        return True\n",
    "\n",
    "    def hacer_cosas_en_base_datos():\n",
    "        ...\n",
    "\n",
    "    exito_conexion = True if mysql.connector.connect(host=url,database='mi_base_datos') else False\n",
    "    if exito_conexion:\n",
    "        print(\"Conexion exitosa\")\n",
    "    else:\n",
    "        raise ValueError(\"La url no es valida\")  # Se tendria una excepcion propia\n",
    "    exito_validacion = validar(usuario, contraseña)\n",
    "    if exito_validacion:\n",
    "        ahora = datetime.datetime.now()\n",
    "        limite_tiempo = ahora + datetime.timedelta(seconds=time)\n",
    "        while limite_tiempo > ahora:\n",
    "            ahora = datetime.datetime.now()\n",
    "            hacer_cosas_en_base_datos()"
   ]
  },
  {
   "cell_type": "code",
   "execution_count": null,
   "id": "9d24bce9-b4c0-4048-a5e9-6481c65247af",
   "metadata": {},
   "outputs": [],
   "source": [
    "# Cumpliendo el principio\n",
    "\n",
    "import datetime\n",
    "\n",
    "def conectar(url) -> bool:\n",
    "        ...\n",
    "        return True\n",
    "\n",
    "def validar(usuario, contraseña) -> bool:\n",
    "        ...\n",
    "        return True\n",
    "\n",
    "def hacer_cosas_en_base_datos():\n",
    "        ...\n",
    "\n",
    "def mantener_conexion(time=24*60*60):\n",
    "    ahora = datetime.datetime.now()\n",
    "    limite_tiempo = ahora + datetime.timedelta(seconds=time)\n",
    "    while limite_tiempo > ahora:\n",
    "        ahora = datetime.datetime.now()\n",
    "        hacer_cosas_en_base_datos()\n",
    "\n",
    "def conexion_base_datos(url, usuario, contraseña, *, time=24*60*60):\n",
    "    exito_conexion = conectar(url)\n",
    "    if exito_conexion:\n",
    "        print(\"Conexion exitosa\")\n",
    "    else:\n",
    "        raise ValueError(\"La url no es valida\")  # Se tendria una excepcion propia\n",
    "    exito_validacion = validar(usuario, contraseña)\n",
    "    if exito_validacion:\n",
    "        mantener_conexion()\n"
   ]
  },
  {
   "cell_type": "markdown",
   "id": "b1c8d5b8-103d-4c95-a7eb-7ef56903e893",
   "metadata": {},
   "source": [
    "## **O**pen-Closed (Abierto a extensión, cerrado a modificación)\n",
    "\n",
    "El software debe estar *abierto para extensión, pero cerrado para modificación*. Esto significa que deberías poder agregar nuevas funcionalidades sin cambiar el código existente."
   ]
  },
  {
   "cell_type": "code",
   "execution_count": null,
   "id": "a82bcbf9-6924-469f-9438-800330ac1691",
   "metadata": {},
   "outputs": [],
   "source": [
    "# Incumpliendo el principio\n",
    "\n",
    "class Calculadora:\n",
    "    def sumar(a, b):\n",
    "        return a + b\n",
    "\n",
    "    def restar(a, b):\n",
    "        return a - b\n",
    "\n",
    "    def cuadrado(a):  # MAL!!!\n",
    "        return a ** 2"
   ]
  },
  {
   "cell_type": "code",
   "execution_count": null,
   "id": "83218563-e1da-4f30-a553-3dc65e1a7f1c",
   "metadata": {},
   "outputs": [],
   "source": [
    "# Cumpliendo el principio\n",
    "\n",
    "class Calculadora:\n",
    "    def sumar(a, b):\n",
    "        return a + b\n",
    "\n",
    "    def restar(a, b):\n",
    "        return a - b\n",
    "\n",
    "    def multiplicar(a, b)\n",
    "        return a * b\n",
    "\n",
    "class CalculadoraCientifica(Calculadora):\n",
    "    def cuadrado(a):  # BIEN!!!\n",
    "        return a ** 2"
   ]
  },
  {
   "cell_type": "markdown",
   "id": "9846e438-7136-4783-bd60-908cf4264e73",
   "metadata": {},
   "source": [
    "## **L**iskov substitution (Sustitución de Liskov)\n",
    "\n",
    "Los objetos de una *clase derivada* **deben poder sustituir** a los objetos de una *clase padre* **sin alterar el comportamiento**."
   ]
  },
  {
   "cell_type": "code",
   "execution_count": null,
   "id": "05d566ea-988a-4e23-ae2a-5eb5ac3125d4",
   "metadata": {},
   "outputs": [],
   "source": [
    "# Incumpliendo el principio\n",
    "\n",
    "class Pajaro(ABC):\n",
    "    def volar(self):\n",
    "        print(\"Esta volando\")\n",
    "\n",
    "    @abstractmethod\n",
    "    def comer_grano(self):\n",
    "        ...\n",
    "\n",
    "class Paloma(Pajaro):\n",
    "    def comer_grano(self):\n",
    "        print(\"La paloma come un poco de maiz\")\n",
    "\n",
    "class Pinguino(Pajaro):\n",
    "    def volar():\n",
    "        print(\"Este pajaro no vuela\")  # MAL!!!\n",
    "    \n",
    "    def comer_grano(self):\n",
    "        raise Exception(\"Los pingüinos no pueden comer grano!\")"
   ]
  },
  {
   "cell_type": "code",
   "execution_count": null,
   "id": "0264e33b-ca3d-4b5d-a1f9-a026805b901d",
   "metadata": {},
   "outputs": [],
   "source": [
    "# Cumpliendo el principio\n",
    "\n",
    "class Pajaro(ABC):\n",
    "    alas = True\n",
    "    \n",
    "    @abstractmethod\n",
    "    def comer(self):\n",
    "        ...\n",
    "\n",
    "class Paloma(Pajaro):\n",
    "    def comer(self):\n",
    "        print(\"La paloma come un poco de maiz\")\n",
    "\n",
    "    def volar(self):\n",
    "        print(\"La paloma esta volando\")\n",
    "\n",
    "class Pinguino(Pajaro):\n",
    "    def comer(self):\n",
    "        print(\"El pinguino come un pescado\")"
   ]
  },
  {
   "cell_type": "markdown",
   "id": "bfb64e43-4293-4d2a-868c-f33108e6b33e",
   "metadata": {},
   "source": [
    "## **I**nterface segregation (Segregación de interfaces)\n",
    "\n",
    "No se deberían de utilizar dependencias de interfaces que no usan. Esto significa que es mejor tener interfaces más específicas y pequeñas en lugar de una única interfaz grande."
   ]
  },
  {
   "cell_type": "code",
   "execution_count": null,
   "id": "5204665f-19ea-47ab-88d4-656ceaa1b9c6",
   "metadata": {},
   "outputs": [],
   "source": [
    "# Incumpliendo el principio\n",
    "\n",
    "class Animal(ABC):\n",
    "    def comer(self):\n",
    "        print(\"El animal esta comiendo\")\n",
    "\n",
    "    @abstractmethod\n",
    "    def correr(self):\n",
    "        pass\n",
    "\n",
    "    @abstractmethod\n",
    "    def volar(self):\n",
    "        pass\n",
    "\n",
    "    @abstractmethod\n",
    "    def nadar(self):\n",
    "        pass\n",
    "\n",
    "\n",
    "class Caballo(Animal):\n",
    "    def correr(self):\n",
    "        print(\"El caballo esta corriendo\")\n",
    "\n",
    "class Pinguino(Animal):\n",
    "    def nadar(self):\n",
    "        print(\"El pingüino esta corriendo\")\n",
    "\n",
    "    def correr(self):\n",
    "        print(\"El pingüino esta corriendo\")\n",
    "\n",
    "class Mirlo(Animal):\n",
    "    def correr(self):\n",
    "        print(\"El mirlo esta corriendo\")\n",
    "\n",
    "    def volar(self):\n",
    "        print(\"El mirlo esta volando\")\n"
   ]
  },
  {
   "cell_type": "code",
   "execution_count": null,
   "id": "4f10d8ae-8560-462d-a3c3-2f2c8e8d8d9a",
   "metadata": {},
   "outputs": [],
   "source": [
    "# Cumpliendo el principio\n",
    "\n",
    "class Animal(ABC):\n",
    "    def comer(self):\n",
    "        print(\"El animal esta comiendo\")\n",
    "\n",
    "class Volador(ABC):\n",
    "    @abstractmethod\n",
    "    def volar(self):\n",
    "        pass\n",
    "\n",
    "class Acuatico(ABC):\n",
    "    @abstractmethod\n",
    "    def nadar(self):\n",
    "        pass\n",
    "\n",
    "class Terrestre(ABC):\n",
    "    @abstractmethod\n",
    "    def correr(self):\n",
    "        pass\n",
    "\n",
    "\n",
    "\n",
    "class Caballo(Animal, Terrestre):\n",
    "    def correr(self):\n",
    "        print(\"El caballo esta corriendo\")\n",
    "\n",
    "class Pinguino(Animal, Terrestre, Acuatico):\n",
    "    def nadar(self):\n",
    "        print(\"El pingüino esta corriendo\")\n",
    "\n",
    "    def correr(self):\n",
    "        print(\"El pingüino esta corriendo\")\n",
    "\n",
    "class Mirlo(Animal, Terrestre, Volador):\n",
    "    def correr(self):\n",
    "        print(\"El mirlo esta corriendo\")\n",
    "\n",
    "    def volar(self):\n",
    "        print(\"El mirlo esta volando\")\n"
   ]
  },
  {
   "cell_type": "markdown",
   "id": "a22a773b-48be-4ddd-aa84-786801193359",
   "metadata": {},
   "source": [
    "## **D**ependency inversion (Inversión de dependencias)\n",
    "\n",
    "Las entidades de **alto nivel no deberían depender de entidades de bajo nivel**. Ambas deberían depender de **abstracciones**. Es decir. las abstracciones no deberían depender de los detalles, los detalles deberían depender de las abstracciones. Esto se consigue mediante **inyección de dependencias**.\n",
    "\n",
    "Este posiblemente sea el principio más importante y más complicado de aplicar. Un buen uso de el hace que el código este bien desacoplado y se mantenga facil de mantener y cambiar."
   ]
  },
  {
   "cell_type": "code",
   "execution_count": null,
   "id": "63f11061-3a50-41dc-9a50-4dfb2a5b1923",
   "metadata": {},
   "outputs": [],
   "source": [
    "# Incumpliendo el principio\n",
    "\n",
    "class Bombilla:\n",
    "    def on(self):\n",
    "        print(\"Se ha encendido\")\n",
    "\n",
    "    def off(self):\n",
    "        print(\"Se ha apagado\")\n",
    "\n",
    "class Interruptor:\n",
    "    def __init__(self):\n",
    "        self.status = False  # La bombilla empieza apagada\n",
    "\n",
    "    def on_off(self):\n",
    "        if self.status:\n",
    "            self.status = False\n",
    "            self.bombilla.off()\n",
    "        else:\n",
    "            self.status = True\n",
    "            self.bombilla.on()\n",
    "\n",
    "# Implementar ahora un ventilador!"
   ]
  },
  {
   "cell_type": "code",
   "execution_count": null,
   "id": "eabc350b-6af9-4ca6-9aab-f4daf0aac9f7",
   "metadata": {},
   "outputs": [],
   "source": [
    "# Cumpliendo el principio\n",
    "\n",
    "from abc import ABC\n",
    "\n",
    "class Encendible(ABC):\n",
    "    def on(self):\n",
    "        print(f\"Encendido {self.__class__.__name__}\")\n",
    "\n",
    "    def off(self):\n",
    "        print(f\"Apagado {self.__class__.__name__}\")\n",
    "\n",
    "class Bombilla(Encendible):\n",
    "    def __init__(self):\n",
    "        self.status = False\n",
    "        \n",
    "class Ventilador(Encendible):\n",
    "    def __init__(self):\n",
    "        self.status = False\n",
    "\n",
    "class Interruptor:\n",
    "    def __init__(self, aparato: Encendible):\n",
    "        self.aparato = aparato\n",
    "\n",
    "    def on_off(self):\n",
    "        if self.aparato.status:\n",
    "            self.aparato.off()\n",
    "            self.aparato.status = False\n",
    "        else:\n",
    "            self.aparato.on()\n",
    "            self.aparato.status = True\n",
    "            \n",
    "bombilla = Bombilla()\n",
    "ventilador = Ventilador()\n",
    "circuito = Interruptor(bombilla)\n",
    "circuito.on_off()  # Encendida\n",
    "circuito.on_off()  # Apagada\n",
    "circuito = Interruptor(ventilador)\n",
    "circuito.on_off()\n",
    "circuito.on_off()\n",
    "circuito.on_off()\n",
    "print(bombilla.status)\n",
    "print(ventilador.status)\n"
   ]
  },
  {
   "cell_type": "code",
   "execution_count": null,
   "id": "365bec17-87d5-4959-aed9-54c08ab214d4",
   "metadata": {},
   "outputs": [],
   "source": [
    "# Aplicar los 5 principios para hacer un sistema de notificaciones por SMS, Email, Whatsapp, Telegram y un sistema interno por Push"
   ]
  }
 ],
 "metadata": {
  "kernelspec": {
   "display_name": "Python 3 (ipykernel)",
   "language": "python",
   "name": "python3"
  },
  "language_info": {
   "codemirror_mode": {
    "name": "ipython",
    "version": 3
   },
   "file_extension": ".py",
   "mimetype": "text/x-python",
   "name": "python",
   "nbconvert_exporter": "python",
   "pygments_lexer": "ipython3",
   "version": "3.12.1"
  }
 },
 "nbformat": 4,
 "nbformat_minor": 5
}
